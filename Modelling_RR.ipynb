{
 "cells": [
  {
   "cell_type": "code",
   "execution_count": 1,
   "id": "33ccf5c5-e618-44e1-a1e4-69e2cf7c1976",
   "metadata": {},
   "outputs": [],
   "source": [
    "import pandas as pd\n",
    "import numpy as np\n",
    "from sklearn.ensemble import RandomForestClassifier, AdaBoostClassifier\n",
    "from sklearn.metrics import accuracy_score, precision_score, recall_score, f1_score, roc_auc_score\n",
    "from sklearn.model_selection import RandomizedSearchCV\n",
    "from xgboost import XGBClassifier\n",
    "import warnings\n",
    "warnings.filterwarnings('ignore', category=FutureWarning)"
   ]
  },
  {
   "cell_type": "markdown",
   "id": "14c0e1df-3b89-4e35-b45d-332324da2b72",
   "metadata": {},
   "source": [
    "### Loading data "
   ]
  },
  {
   "cell_type": "code",
   "execution_count": 2,
   "id": "b6e2b7c6-b21c-4ad7-bbee-839212a91890",
   "metadata": {},
   "outputs": [],
   "source": [
    "X_test = pd.read_csv('x_test.csv')\n",
    "y_test = pd.read_csv('y_test.csv').squeeze()\n",
    "\n",
    "X_train = pd.read_csv('x_train_balanced.csv')\n",
    "y_train = pd.read_csv('y_train_balanced.csv').squeeze()  # Ensure it becomes a Series\n"
   ]
  },
  {
   "cell_type": "markdown",
   "id": "a92fc701-fea5-48f9-af63-821b6f814ebf",
   "metadata": {},
   "source": [
    "### Modelling"
   ]
  },
  {
   "cell_type": "code",
   "execution_count": 4,
   "id": "16d80b47",
   "metadata": {},
   "outputs": [],
   "source": [
    "import matplotlib.pyplot as plt\n",
    "\n",
    "def plot_metrics(history, title='Model Performance'):\n",
    "    \"\"\" Plots the accuracy, precision, recall, F1 score, and AUC over iterations. \"\"\"\n",
    "    plt.figure(figsize=(10, 5))\n",
    "    for metric, values in history.items():\n",
    "        plt.plot(values, label=metric)\n",
    "    \n",
    "    plt.title(title)\n",
    "    plt.xlabel('Iterations')\n",
    "    plt.ylabel('Score')\n",
    "    plt.legend()\n",
    "    plt.grid(True)\n",
    "    plt.show()\n"
   ]
  },
  {
   "cell_type": "code",
   "execution_count": 3,
   "id": "7c5baf72-7348-45d8-bfce-6f6840b749df",
   "metadata": {},
   "outputs": [
    {
     "name": "stderr",
     "output_type": "stream",
     "text": [
      "c:\\Users\\hamed\\AppData\\Local\\Programs\\Python\\Python311\\Lib\\site-packages\\sklearn\\model_selection\\_validation.py:425: FitFailedWarning: \n",
      "3 fits failed out of a total of 15.\n",
      "The score on these train-test partitions for these parameters will be set to nan.\n",
      "If these failures are not expected, you can try to debug them by setting error_score='raise'.\n",
      "\n",
      "Below are more details about the failures:\n",
      "--------------------------------------------------------------------------------\n",
      "3 fits failed with the following error:\n",
      "Traceback (most recent call last):\n",
      "  File \"c:\\Users\\hamed\\AppData\\Local\\Programs\\Python\\Python311\\Lib\\site-packages\\sklearn\\model_selection\\_validation.py\", line 729, in _fit_and_score\n",
      "    estimator.fit(X_train, y_train, **fit_params)\n",
      "  File \"c:\\Users\\hamed\\AppData\\Local\\Programs\\Python\\Python311\\Lib\\site-packages\\sklearn\\base.py\", line 1145, in wrapper\n",
      "    estimator._validate_params()\n",
      "  File \"c:\\Users\\hamed\\AppData\\Local\\Programs\\Python\\Python311\\Lib\\site-packages\\sklearn\\base.py\", line 638, in _validate_params\n",
      "    validate_parameter_constraints(\n",
      "  File \"c:\\Users\\hamed\\AppData\\Local\\Programs\\Python\\Python311\\Lib\\site-packages\\sklearn\\utils\\_param_validation.py\", line 96, in validate_parameter_constraints\n",
      "    raise InvalidParameterError(\n",
      "sklearn.utils._param_validation.InvalidParameterError: The 'max_features' parameter of RandomForestClassifier must be an int in the range [1, inf), a float in the range (0.0, 1.0], a str among {'log2', 'sqrt'} or None. Got 'auto' instead.\n",
      "\n",
      "  warnings.warn(some_fits_failed_message, FitFailedWarning)\n",
      "c:\\Users\\hamed\\AppData\\Local\\Programs\\Python\\Python311\\Lib\\site-packages\\sklearn\\model_selection\\_search.py:979: UserWarning: One or more of the test scores are non-finite: [0.73833333        nan 0.61666667 0.69333333 0.64333333]\n",
      "  warnings.warn(\n"
     ]
    },
    {
     "name": "stdout",
     "output_type": "stream",
     "text": [
      "Best parameters for RandomForest: {'n_estimators': 50, 'min_samples_split': 5, 'min_samples_leaf': 1, 'max_features': 'log2', 'max_depth': 15}\n",
      "Best parameters for AdaBoost: {'n_estimators': 100, 'learning_rate': 0.1}\n",
      "Best parameters for XGBoost: {'n_estimators': 250, 'max_depth': 8, 'learning_rate': 0.2}\n",
      "\n",
      "Metrics for RandomForest:\n",
      "Accuracy: 0.6250\n",
      "Precision: 0.7292\n",
      "Recall: 0.7447\n",
      "F1 Score: 0.7368\n",
      "AUC: 0.6144\n",
      "\n",
      "Metrics for AdaBoost:\n",
      "Accuracy: 0.6050\n",
      "Precision: 0.7541\n",
      "Recall: 0.6525\n",
      "F1 Score: 0.6996\n",
      "AUC: 0.6346\n",
      "\n",
      "Metrics for XGBoost:\n",
      "Accuracy: 0.6400\n",
      "Precision: 0.7315\n",
      "Recall: 0.7730\n",
      "F1 Score: 0.7517\n",
      "AUC: 0.5984\n"
     ]
    }
   ],
   "source": [
    "\n",
    "\n",
    "\n",
    "# Define the models and parameter grids for hyperparameter tuning\n",
    "models_params = {\n",
    "    'RandomForest': {\n",
    "        'model': RandomForestClassifier(),\n",
    "        'params': {\n",
    "            'n_estimators': [10, 50, 100, 150, 200],\n",
    "            'max_features': ['auto', 'sqrt', 'log2'],\n",
    "            'max_depth': [None, 3, 5, 10, 15, 20, 25],\n",
    "            'min_samples_split': [2, 5, 16, 20],\n",
    "            'min_samples_leaf': [1, 2, 4, 8]\n",
    "        }\n",
    "    },\n",
    "    'AdaBoost': {\n",
    "        'model': AdaBoostClassifier(),\n",
    "        'params': {\n",
    "            'n_estimators': [50, 100, 200, 300],\n",
    "            'learning_rate': [0.01, 0.1, 1.0]\n",
    "        }\n",
    "    },\n",
    "    'XGBoost': {\n",
    "        'model': XGBClassifier(use_label_encoder=False, eval_metric='logloss'),\n",
    "        'params': {\n",
    "            'n_estimators': [50, 100, 200, 250, 300],\n",
    "            'learning_rate': [0.01, 0.1, 0.2, 0.3, 0.5, 0.001],\n",
    "            'max_depth': [3, 6, 8, 10, 12, 15, 20, 25]\n",
    "        }\n",
    "    }\n",
    "}\n",
    "\n",
    "# Perform Grid Search with Cross-Validation\n",
    "best_estimators = {}\n",
    "for model_name, mp in models_params.items():\n",
    "    random_search = RandomizedSearchCV(mp['model'], mp['params'], n_iter=5, cv=3, scoring='accuracy', random_state=42)\n",
    "    random_search.fit(X_train, y_train)\n",
    "    best_estimators[model_name] = random_search.best_estimator_\n",
    "    print(f\"Best parameters for {model_name}: {random_search.best_params_}\")\n",
    "\n",
    "# Evaluate the models\n",
    "metrics = {}\n",
    "for model_name, model in best_estimators.items():\n",
    "    y_pred = model.predict(X_test)\n",
    "    metrics[model_name] = {\n",
    "        'Accuracy': accuracy_score(y_test, y_pred),\n",
    "        'Precision': precision_score(y_test, y_pred),\n",
    "        'Recall': recall_score(y_test, y_pred),\n",
    "        'F1 Score': f1_score(y_test, y_pred),\n",
    "        'AUC': roc_auc_score(y_test, model.predict_proba(X_test)[:, 1])\n",
    "    }\n",
    "\n",
    "# Display the metrics\n",
    "for model_name, m in metrics.items():\n",
    "    print(f\"\\nMetrics for {model_name}:\")\n",
    "    for metric_name, value in m.items():\n",
    "        print(f\"{metric_name}: {value:.4f}\")"
   ]
  },
  {
   "cell_type": "code",
   "execution_count": null,
   "id": "0bce1efe-caaa-49cb-8b85-107139e24ef5",
   "metadata": {},
   "outputs": [],
   "source": []
  },
  {
   "cell_type": "code",
   "execution_count": null,
   "id": "b4236ec4-f4e6-4639-82e8-a1c820906786",
   "metadata": {},
   "outputs": [],
   "source": []
  },
  {
   "cell_type": "code",
   "execution_count": null,
   "id": "846ee9b4-d90f-429f-acb2-2645c6bcf750",
   "metadata": {},
   "outputs": [],
   "source": []
  }
 ],
 "metadata": {
  "kernelspec": {
   "display_name": "Python 3 (ipykernel)",
   "language": "python",
   "name": "python3"
  },
  "language_info": {
   "codemirror_mode": {
    "name": "ipython",
    "version": 3
   },
   "file_extension": ".py",
   "mimetype": "text/x-python",
   "name": "python",
   "nbconvert_exporter": "python",
   "pygments_lexer": "ipython3",
   "version": "3.11.1"
  }
 },
 "nbformat": 4,
 "nbformat_minor": 5
}
