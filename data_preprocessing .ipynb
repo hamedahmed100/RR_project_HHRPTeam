{
 "cells": [
  {
   "cell_type": "markdown",
   "metadata": {},
   "source": [
    "## Data Pre-Processing"
   ]
  },
  {
   "cell_type": "code",
   "execution_count": 6,
   "metadata": {},
   "outputs": [],
   "source": [
    "import pandas as pd\n",
    "import matplotlib.pyplot as plt\n",
    "import seaborn as sns\n",
    "import numpy as np\n",
    "from sklearn.utils import resample\n",
    "\n",
    "data_path = \"german_credit_data.csv\"\n",
    "data = pd.read_csv(data_path)\n"
   ]
  },
  {
   "cell_type": "code",
   "execution_count": 7,
   "metadata": {},
   "outputs": [
    {
     "data": {
      "text/plain": [
       "(1000, 11)"
      ]
     },
     "execution_count": 7,
     "metadata": {},
     "output_type": "execute_result"
    }
   ],
   "source": [
    "data.shape"
   ]
  },
  {
   "cell_type": "code",
   "execution_count": 8,
   "metadata": {},
   "outputs": [
    {
     "data": {
      "text/html": [
       "<div>\n",
       "<style scoped>\n",
       "    .dataframe tbody tr th:only-of-type {\n",
       "        vertical-align: middle;\n",
       "    }\n",
       "\n",
       "    .dataframe tbody tr th {\n",
       "        vertical-align: top;\n",
       "    }\n",
       "\n",
       "    .dataframe thead th {\n",
       "        text-align: right;\n",
       "    }\n",
       "</style>\n",
       "<table border=\"1\" class=\"dataframe\">\n",
       "  <thead>\n",
       "    <tr style=\"text-align: right;\">\n",
       "      <th></th>\n",
       "      <th>Unnamed: 0</th>\n",
       "      <th>Age</th>\n",
       "      <th>Sex</th>\n",
       "      <th>Job</th>\n",
       "      <th>Housing</th>\n",
       "      <th>Saving accounts</th>\n",
       "      <th>Checking account</th>\n",
       "      <th>Credit amount</th>\n",
       "      <th>Duration</th>\n",
       "      <th>Purpose</th>\n",
       "      <th>Risk</th>\n",
       "    </tr>\n",
       "  </thead>\n",
       "  <tbody>\n",
       "    <tr>\n",
       "      <th>0</th>\n",
       "      <td>0</td>\n",
       "      <td>67</td>\n",
       "      <td>male</td>\n",
       "      <td>2</td>\n",
       "      <td>own</td>\n",
       "      <td>NaN</td>\n",
       "      <td>little</td>\n",
       "      <td>1169</td>\n",
       "      <td>6</td>\n",
       "      <td>radio/TV</td>\n",
       "      <td>good</td>\n",
       "    </tr>\n",
       "    <tr>\n",
       "      <th>1</th>\n",
       "      <td>1</td>\n",
       "      <td>22</td>\n",
       "      <td>female</td>\n",
       "      <td>2</td>\n",
       "      <td>own</td>\n",
       "      <td>little</td>\n",
       "      <td>moderate</td>\n",
       "      <td>5951</td>\n",
       "      <td>48</td>\n",
       "      <td>radio/TV</td>\n",
       "      <td>bad</td>\n",
       "    </tr>\n",
       "    <tr>\n",
       "      <th>2</th>\n",
       "      <td>2</td>\n",
       "      <td>49</td>\n",
       "      <td>male</td>\n",
       "      <td>1</td>\n",
       "      <td>own</td>\n",
       "      <td>little</td>\n",
       "      <td>NaN</td>\n",
       "      <td>2096</td>\n",
       "      <td>12</td>\n",
       "      <td>education</td>\n",
       "      <td>good</td>\n",
       "    </tr>\n",
       "    <tr>\n",
       "      <th>3</th>\n",
       "      <td>3</td>\n",
       "      <td>45</td>\n",
       "      <td>male</td>\n",
       "      <td>2</td>\n",
       "      <td>free</td>\n",
       "      <td>little</td>\n",
       "      <td>little</td>\n",
       "      <td>7882</td>\n",
       "      <td>42</td>\n",
       "      <td>furniture/equipment</td>\n",
       "      <td>good</td>\n",
       "    </tr>\n",
       "    <tr>\n",
       "      <th>4</th>\n",
       "      <td>4</td>\n",
       "      <td>53</td>\n",
       "      <td>male</td>\n",
       "      <td>2</td>\n",
       "      <td>free</td>\n",
       "      <td>little</td>\n",
       "      <td>little</td>\n",
       "      <td>4870</td>\n",
       "      <td>24</td>\n",
       "      <td>car</td>\n",
       "      <td>bad</td>\n",
       "    </tr>\n",
       "  </tbody>\n",
       "</table>\n",
       "</div>"
      ],
      "text/plain": [
       "   Unnamed: 0  Age     Sex  Job Housing Saving accounts Checking account  \\\n",
       "0           0   67    male    2     own             NaN           little   \n",
       "1           1   22  female    2     own          little         moderate   \n",
       "2           2   49    male    1     own          little              NaN   \n",
       "3           3   45    male    2    free          little           little   \n",
       "4           4   53    male    2    free          little           little   \n",
       "\n",
       "   Credit amount  Duration              Purpose  Risk  \n",
       "0           1169         6             radio/TV  good  \n",
       "1           5951        48             radio/TV   bad  \n",
       "2           2096        12            education  good  \n",
       "3           7882        42  furniture/equipment  good  \n",
       "4           4870        24                  car   bad  "
      ]
     },
     "execution_count": 8,
     "metadata": {},
     "output_type": "execute_result"
    }
   ],
   "source": [
    "data.head()"
   ]
  },
  {
   "cell_type": "code",
   "execution_count": 9,
   "metadata": {},
   "outputs": [
    {
     "name": "stdout",
     "output_type": "stream",
     "text": [
      "<class 'pandas.core.frame.DataFrame'>\n",
      "RangeIndex: 1000 entries, 0 to 999\n",
      "Data columns (total 11 columns):\n",
      " #   Column            Non-Null Count  Dtype \n",
      "---  ------            --------------  ----- \n",
      " 0   Unnamed: 0        1000 non-null   int64 \n",
      " 1   Age               1000 non-null   int64 \n",
      " 2   Sex               1000 non-null   object\n",
      " 3   Job               1000 non-null   int64 \n",
      " 4   Housing           1000 non-null   object\n",
      " 5   Saving accounts   817 non-null    object\n",
      " 6   Checking account  606 non-null    object\n",
      " 7   Credit amount     1000 non-null   int64 \n",
      " 8   Duration          1000 non-null   int64 \n",
      " 9   Purpose           1000 non-null   object\n",
      " 10  Risk              1000 non-null   object\n",
      "dtypes: int64(5), object(6)\n",
      "memory usage: 86.1+ KB\n"
     ]
    }
   ],
   "source": [
    "data.info()"
   ]
  },
  {
   "cell_type": "code",
   "execution_count": 10,
   "metadata": {},
   "outputs": [
    {
     "data": {
      "text/html": [
       "<div>\n",
       "<style scoped>\n",
       "    .dataframe tbody tr th:only-of-type {\n",
       "        vertical-align: middle;\n",
       "    }\n",
       "\n",
       "    .dataframe tbody tr th {\n",
       "        vertical-align: top;\n",
       "    }\n",
       "\n",
       "    .dataframe thead th {\n",
       "        text-align: right;\n",
       "    }\n",
       "</style>\n",
       "<table border=\"1\" class=\"dataframe\">\n",
       "  <thead>\n",
       "    <tr style=\"text-align: right;\">\n",
       "      <th></th>\n",
       "      <th>count</th>\n",
       "      <th>mean</th>\n",
       "      <th>std</th>\n",
       "      <th>min</th>\n",
       "      <th>25%</th>\n",
       "      <th>50%</th>\n",
       "      <th>75%</th>\n",
       "      <th>max</th>\n",
       "    </tr>\n",
       "  </thead>\n",
       "  <tbody>\n",
       "    <tr>\n",
       "      <th>Unnamed: 0</th>\n",
       "      <td>1000.0</td>\n",
       "      <td>499.500</td>\n",
       "      <td>288.819436</td>\n",
       "      <td>0.0</td>\n",
       "      <td>249.75</td>\n",
       "      <td>499.5</td>\n",
       "      <td>749.25</td>\n",
       "      <td>999.0</td>\n",
       "    </tr>\n",
       "    <tr>\n",
       "      <th>Age</th>\n",
       "      <td>1000.0</td>\n",
       "      <td>35.546</td>\n",
       "      <td>11.375469</td>\n",
       "      <td>19.0</td>\n",
       "      <td>27.00</td>\n",
       "      <td>33.0</td>\n",
       "      <td>42.00</td>\n",
       "      <td>75.0</td>\n",
       "    </tr>\n",
       "    <tr>\n",
       "      <th>Job</th>\n",
       "      <td>1000.0</td>\n",
       "      <td>1.904</td>\n",
       "      <td>0.653614</td>\n",
       "      <td>0.0</td>\n",
       "      <td>2.00</td>\n",
       "      <td>2.0</td>\n",
       "      <td>2.00</td>\n",
       "      <td>3.0</td>\n",
       "    </tr>\n",
       "    <tr>\n",
       "      <th>Credit amount</th>\n",
       "      <td>1000.0</td>\n",
       "      <td>3271.258</td>\n",
       "      <td>2822.736876</td>\n",
       "      <td>250.0</td>\n",
       "      <td>1365.50</td>\n",
       "      <td>2319.5</td>\n",
       "      <td>3972.25</td>\n",
       "      <td>18424.0</td>\n",
       "    </tr>\n",
       "    <tr>\n",
       "      <th>Duration</th>\n",
       "      <td>1000.0</td>\n",
       "      <td>20.903</td>\n",
       "      <td>12.058814</td>\n",
       "      <td>4.0</td>\n",
       "      <td>12.00</td>\n",
       "      <td>18.0</td>\n",
       "      <td>24.00</td>\n",
       "      <td>72.0</td>\n",
       "    </tr>\n",
       "  </tbody>\n",
       "</table>\n",
       "</div>"
      ],
      "text/plain": [
       "                count      mean          std    min      25%     50%      75%  \\\n",
       "Unnamed: 0     1000.0   499.500   288.819436    0.0   249.75   499.5   749.25   \n",
       "Age            1000.0    35.546    11.375469   19.0    27.00    33.0    42.00   \n",
       "Job            1000.0     1.904     0.653614    0.0     2.00     2.0     2.00   \n",
       "Credit amount  1000.0  3271.258  2822.736876  250.0  1365.50  2319.5  3972.25   \n",
       "Duration       1000.0    20.903    12.058814    4.0    12.00    18.0    24.00   \n",
       "\n",
       "                   max  \n",
       "Unnamed: 0       999.0  \n",
       "Age               75.0  \n",
       "Job                3.0  \n",
       "Credit amount  18424.0  \n",
       "Duration          72.0  "
      ]
     },
     "execution_count": 10,
     "metadata": {},
     "output_type": "execute_result"
    }
   ],
   "source": [
    "data.describe().T"
   ]
  },
  {
   "cell_type": "markdown",
   "metadata": {},
   "source": [
    " Removing redundant column "
   ]
  },
  {
   "cell_type": "code",
   "execution_count": 11,
   "metadata": {},
   "outputs": [],
   "source": [
    "data.drop(\"Unnamed: 0\", axis = 1, inplace = True)"
   ]
  },
  {
   "cell_type": "markdown",
   "metadata": {},
   "source": [
    "### Filling missing values"
   ]
  },
  {
   "cell_type": "code",
   "execution_count": 12,
   "metadata": {},
   "outputs": [
    {
     "data": {
      "text/plain": [
       "Age                   0\n",
       "Sex                   0\n",
       "Job                   0\n",
       "Housing               0\n",
       "Saving accounts     183\n",
       "Checking account    394\n",
       "Credit amount         0\n",
       "Duration              0\n",
       "Purpose               0\n",
       "Risk                  0\n",
       "dtype: int64"
      ]
     },
     "execution_count": 12,
     "metadata": {},
     "output_type": "execute_result"
    }
   ],
   "source": [
    "data.isnull().values.any()\n",
    "data.isnull().sum()"
   ]
  },
  {
   "cell_type": "markdown",
   "metadata": {},
   "source": [
    "The dataset comprises 1,000 entries, with 183 entries lacking data in the Savings Account attribute, accounting for 18.3% of the total records. Consequently, we will employ the Most Common Technique to impute these missing values."
   ]
  },
  {
   "cell_type": "code",
   "execution_count": 13,
   "metadata": {},
   "outputs": [
    {
     "data": {
      "text/plain": [
       "0    little\n",
       "Name: Saving accounts, dtype: object"
      ]
     },
     "execution_count": 13,
     "metadata": {},
     "output_type": "execute_result"
    }
   ],
   "source": [
    "savings_mode = data['Saving accounts'].mode()\n",
    "savings_mode"
   ]
  },
  {
   "cell_type": "code",
   "execution_count": 14,
   "metadata": {},
   "outputs": [
    {
     "data": {
      "text/plain": [
       "0"
      ]
     },
     "execution_count": 14,
     "metadata": {},
     "output_type": "execute_result"
    }
   ],
   "source": [
    "data['Saving accounts'].fillna(savings_mode[0], inplace=True)\n",
    "data['Saving accounts'].isnull().sum()"
   ]
  },
  {
   "cell_type": "markdown",
   "metadata": {},
   "source": [
    "There are plenty of missing records in the Checking Account attribute, so it would be appropriate to fill in these values rather than remove them to improve the analysis of the data set."
   ]
  },
  {
   "cell_type": "code",
   "execution_count": 15,
   "metadata": {},
   "outputs": [
    {
     "data": {
      "text/plain": [
       "0    little\n",
       "Name: Checking account, dtype: object"
      ]
     },
     "execution_count": 15,
     "metadata": {},
     "output_type": "execute_result"
    }
   ],
   "source": [
    "check_mode = data['Checking account'].mode()\n",
    "check_mode"
   ]
  },
  {
   "cell_type": "code",
   "execution_count": 16,
   "metadata": {},
   "outputs": [
    {
     "data": {
      "text/plain": [
       "0"
      ]
     },
     "execution_count": 16,
     "metadata": {},
     "output_type": "execute_result"
    }
   ],
   "source": [
    "data['Checking account'].fillna(check_mode[0], inplace=True)\n",
    "data['Checking account'].isnull().sum()"
   ]
  },
  {
   "cell_type": "code",
   "execution_count": 17,
   "metadata": {},
   "outputs": [
    {
     "data": {
      "text/plain": [
       "Index(['Age', 'Sex', 'Job', 'Housing', 'Saving accounts', 'Checking account',\n",
       "       'Credit amount', 'Duration', 'Purpose', 'Risk'],\n",
       "      dtype='object')"
      ]
     },
     "execution_count": 17,
     "metadata": {},
     "output_type": "execute_result"
    }
   ],
   "source": [
    "data.columns"
   ]
  },
  {
   "cell_type": "markdown",
   "metadata": {},
   "source": [
    "Target Variable"
   ]
  },
  {
   "cell_type": "code",
   "execution_count": 18,
   "metadata": {},
   "outputs": [
    {
     "data": {
      "text/plain": [
       "Risk\n",
       "good    700\n",
       "bad     300\n",
       "Name: count, dtype: int64"
      ]
     },
     "execution_count": 18,
     "metadata": {},
     "output_type": "execute_result"
    }
   ],
   "source": [
    "data[\"Risk\"].value_counts()"
   ]
  },
  {
   "cell_type": "markdown",
   "metadata": {},
   "source": [
    "### Encoding\n"
   ]
  },
  {
   "cell_type": "code",
   "execution_count": 19,
   "metadata": {},
   "outputs": [
    {
     "data": {
      "text/html": [
       "<div>\n",
       "<style scoped>\n",
       "    .dataframe tbody tr th:only-of-type {\n",
       "        vertical-align: middle;\n",
       "    }\n",
       "\n",
       "    .dataframe tbody tr th {\n",
       "        vertical-align: top;\n",
       "    }\n",
       "\n",
       "    .dataframe thead th {\n",
       "        text-align: right;\n",
       "    }\n",
       "</style>\n",
       "<table border=\"1\" class=\"dataframe\">\n",
       "  <thead>\n",
       "    <tr style=\"text-align: right;\">\n",
       "      <th></th>\n",
       "      <th>Age</th>\n",
       "      <th>Sex</th>\n",
       "      <th>Job</th>\n",
       "      <th>Credit amount</th>\n",
       "      <th>Duration</th>\n",
       "      <th>Risk</th>\n",
       "      <th>Housing_free</th>\n",
       "      <th>Housing_own</th>\n",
       "      <th>Housing_rent</th>\n",
       "      <th>Saving accounts_little</th>\n",
       "      <th>...</th>\n",
       "      <th>Checking account_moderate</th>\n",
       "      <th>Checking account_rich</th>\n",
       "      <th>Purpose_business</th>\n",
       "      <th>Purpose_car</th>\n",
       "      <th>Purpose_domestic appliances</th>\n",
       "      <th>Purpose_education</th>\n",
       "      <th>Purpose_furniture/equipment</th>\n",
       "      <th>Purpose_radio/TV</th>\n",
       "      <th>Purpose_repairs</th>\n",
       "      <th>Purpose_vacation/others</th>\n",
       "    </tr>\n",
       "  </thead>\n",
       "  <tbody>\n",
       "    <tr>\n",
       "      <th>0</th>\n",
       "      <td>67</td>\n",
       "      <td>1</td>\n",
       "      <td>2</td>\n",
       "      <td>1169</td>\n",
       "      <td>6</td>\n",
       "      <td>1</td>\n",
       "      <td>False</td>\n",
       "      <td>True</td>\n",
       "      <td>False</td>\n",
       "      <td>True</td>\n",
       "      <td>...</td>\n",
       "      <td>False</td>\n",
       "      <td>False</td>\n",
       "      <td>False</td>\n",
       "      <td>False</td>\n",
       "      <td>False</td>\n",
       "      <td>False</td>\n",
       "      <td>False</td>\n",
       "      <td>True</td>\n",
       "      <td>False</td>\n",
       "      <td>False</td>\n",
       "    </tr>\n",
       "    <tr>\n",
       "      <th>1</th>\n",
       "      <td>22</td>\n",
       "      <td>0</td>\n",
       "      <td>2</td>\n",
       "      <td>5951</td>\n",
       "      <td>48</td>\n",
       "      <td>0</td>\n",
       "      <td>False</td>\n",
       "      <td>True</td>\n",
       "      <td>False</td>\n",
       "      <td>True</td>\n",
       "      <td>...</td>\n",
       "      <td>True</td>\n",
       "      <td>False</td>\n",
       "      <td>False</td>\n",
       "      <td>False</td>\n",
       "      <td>False</td>\n",
       "      <td>False</td>\n",
       "      <td>False</td>\n",
       "      <td>True</td>\n",
       "      <td>False</td>\n",
       "      <td>False</td>\n",
       "    </tr>\n",
       "    <tr>\n",
       "      <th>2</th>\n",
       "      <td>49</td>\n",
       "      <td>1</td>\n",
       "      <td>1</td>\n",
       "      <td>2096</td>\n",
       "      <td>12</td>\n",
       "      <td>1</td>\n",
       "      <td>False</td>\n",
       "      <td>True</td>\n",
       "      <td>False</td>\n",
       "      <td>True</td>\n",
       "      <td>...</td>\n",
       "      <td>False</td>\n",
       "      <td>False</td>\n",
       "      <td>False</td>\n",
       "      <td>False</td>\n",
       "      <td>False</td>\n",
       "      <td>True</td>\n",
       "      <td>False</td>\n",
       "      <td>False</td>\n",
       "      <td>False</td>\n",
       "      <td>False</td>\n",
       "    </tr>\n",
       "    <tr>\n",
       "      <th>3</th>\n",
       "      <td>45</td>\n",
       "      <td>1</td>\n",
       "      <td>2</td>\n",
       "      <td>7882</td>\n",
       "      <td>42</td>\n",
       "      <td>1</td>\n",
       "      <td>True</td>\n",
       "      <td>False</td>\n",
       "      <td>False</td>\n",
       "      <td>True</td>\n",
       "      <td>...</td>\n",
       "      <td>False</td>\n",
       "      <td>False</td>\n",
       "      <td>False</td>\n",
       "      <td>False</td>\n",
       "      <td>False</td>\n",
       "      <td>False</td>\n",
       "      <td>True</td>\n",
       "      <td>False</td>\n",
       "      <td>False</td>\n",
       "      <td>False</td>\n",
       "    </tr>\n",
       "    <tr>\n",
       "      <th>4</th>\n",
       "      <td>53</td>\n",
       "      <td>1</td>\n",
       "      <td>2</td>\n",
       "      <td>4870</td>\n",
       "      <td>24</td>\n",
       "      <td>0</td>\n",
       "      <td>True</td>\n",
       "      <td>False</td>\n",
       "      <td>False</td>\n",
       "      <td>True</td>\n",
       "      <td>...</td>\n",
       "      <td>False</td>\n",
       "      <td>False</td>\n",
       "      <td>False</td>\n",
       "      <td>True</td>\n",
       "      <td>False</td>\n",
       "      <td>False</td>\n",
       "      <td>False</td>\n",
       "      <td>False</td>\n",
       "      <td>False</td>\n",
       "      <td>False</td>\n",
       "    </tr>\n",
       "  </tbody>\n",
       "</table>\n",
       "<p>5 rows × 24 columns</p>\n",
       "</div>"
      ],
      "text/plain": [
       "   Age  Sex  Job  Credit amount  Duration  Risk  Housing_free  Housing_own  \\\n",
       "0   67    1    2           1169         6     1         False         True   \n",
       "1   22    0    2           5951        48     0         False         True   \n",
       "2   49    1    1           2096        12     1         False         True   \n",
       "3   45    1    2           7882        42     1          True        False   \n",
       "4   53    1    2           4870        24     0          True        False   \n",
       "\n",
       "   Housing_rent  Saving accounts_little  ...  Checking account_moderate  \\\n",
       "0         False                    True  ...                      False   \n",
       "1         False                    True  ...                       True   \n",
       "2         False                    True  ...                      False   \n",
       "3         False                    True  ...                      False   \n",
       "4         False                    True  ...                      False   \n",
       "\n",
       "   Checking account_rich  Purpose_business  Purpose_car  \\\n",
       "0                  False             False        False   \n",
       "1                  False             False        False   \n",
       "2                  False             False        False   \n",
       "3                  False             False        False   \n",
       "4                  False             False         True   \n",
       "\n",
       "   Purpose_domestic appliances  Purpose_education  \\\n",
       "0                        False              False   \n",
       "1                        False              False   \n",
       "2                        False               True   \n",
       "3                        False              False   \n",
       "4                        False              False   \n",
       "\n",
       "   Purpose_furniture/equipment  Purpose_radio/TV  Purpose_repairs  \\\n",
       "0                        False              True            False   \n",
       "1                        False              True            False   \n",
       "2                        False             False            False   \n",
       "3                         True             False            False   \n",
       "4                        False             False            False   \n",
       "\n",
       "   Purpose_vacation/others  \n",
       "0                    False  \n",
       "1                    False  \n",
       "2                    False  \n",
       "3                    False  \n",
       "4                    False  \n",
       "\n",
       "[5 rows x 24 columns]"
      ]
     },
     "execution_count": 19,
     "metadata": {},
     "output_type": "execute_result"
    }
   ],
   "source": [
    "from sklearn.preprocessing import LabelEncoder\n",
    "\n",
    "# Initialize label encoders\n",
    "l_sex = LabelEncoder()\n",
    "l_risk = LabelEncoder()\n",
    "\n",
    "# Apply label encoding\n",
    "data['Sex'] = l_sex.fit_transform(data['Sex'])\n",
    "data['Risk'] = l_risk.fit_transform(data['Risk'])\n",
    "\n",
    "# Apply one-hot encoding\n",
    "data = pd.get_dummies(data, columns=['Housing', 'Saving accounts', 'Checking account', 'Purpose'])\n",
    "data.head()"
   ]
  },
  {
   "cell_type": "markdown",
   "metadata": {},
   "source": [
    "## Exploratory Data Analysis (EDA)"
   ]
  },
  {
   "cell_type": "code",
   "execution_count": 20,
   "metadata": {},
   "outputs": [
    {
     "name": "stderr",
     "output_type": "stream",
     "text": [
      "C:\\Users\\hamed\\AppData\\Local\\Temp\\ipykernel_8568\\4239168787.py:5: FutureWarning: \n",
      "\n",
      "Passing `palette` without assigning `hue` is deprecated and will be removed in v0.14.0. Assign the `x` variable to `hue` and set `legend=False` for the same effect.\n",
      "\n",
      "  sns.countplot(x=data['Risk'], palette='coolwarm')\n"
     ]
    },
    {
     "data": {
      "image/png": "[encoded data removed]",
      "text/plain": [
       "<Figure size 1000x600 with 1 Axes>"
      ]
     },
     "metadata": {},
     "output_type": "display_data"
    }
   ],
   "source": [
    "# Analysing target feature\n",
    "\n",
    "sns.set_style(\"whitegrid\")\n",
    "plt.figure(figsize=(10, 6))\n",
    "sns.countplot(x=data['Risk'], palette='coolwarm')\n",
    "plt.title('Distribution of Risk', fontsize=20)\n",
    "plt.show()"
   ]
  },
  {
   "cell_type": "markdown",
   "metadata": {},
   "source": [
    "The chart labeled \"Distribution of Risk\" illustrates that instances labeled as \"good\" risk are significantly more frequent than those labeled as \"bad\" risk in the dataset, indicating an imbalance. To address this, we must employ suitable methods to balance the data."
   ]
  },
  {
   "cell_type": "code",
   "execution_count": 21,
   "metadata": {},
   "outputs": [
    {
     "data": {
      "image/png": "[encoded data removed]",
      "text/plain": [
       "<Figure size 1800x600 with 3 Axes>"
      ]
     },
     "metadata": {},
     "output_type": "display_data"
    }
   ],
   "source": [
    "import matplotlib.pyplot as plt\n",
    "import seaborn as sns\n",
    "\n",
    "# Set the style for the plots\n",
    "sns.set(style=\"whitegrid\", palette=\"pastel\")\n",
    "\n",
    "# Summary statistics for numerical columns\n",
    "summary_stats = data.describe()\n",
    "\n",
    "# Plot distributions for numerical features\n",
    "numerical_features = ['Age', 'Credit amount', 'Duration']\n",
    "\n",
    "plt.figure(figsize=(18, 6))\n",
    "for i, feature in enumerate(numerical_features, 1):\n",
    "    plt.subplot(1, 3, i)\n",
    "    sns.histplot(data[feature], kde=True, color=sns.color_palette(\"muted\")[i-1])\n",
    "    plt.axvline(data[feature].mean(), color='red', linestyle='dashed', linewidth=1)\n",
    "    plt.title(f'Distribution of {feature}', fontsize=15)\n",
    "    plt.xlabel(f'{feature}', fontsize=12)\n",
    "    plt.ylabel('Frequency', fontsize=12)\n",
    "plt.tight_layout(pad=3.0)\n",
    "plt.show()"
   ]
  },
  {
   "cell_type": "code",
   "execution_count": 22,
   "metadata": {},
   "outputs": [
    {
     "name": "stdout",
     "output_type": "stream",
     "text": [
      "Risk                           1.000000\n",
      "Housing_own                    0.134589\n",
      "Purpose_radio/TV               0.106922\n",
      "Age                            0.091127\n",
      "Checking account_little        0.089895\n",
      "Saving accounts_rich           0.085749\n",
      "Sex                            0.075493\n",
      "Saving accounts_quite rich     0.070954\n",
      "Checking account_rich          0.044009\n",
      "Purpose_domestic appliances   -0.008016\n",
      "Purpose_repairs               -0.020828\n",
      "Purpose_furniture/equipment   -0.020971\n",
      "Saving accounts_moderate      -0.022255\n",
      "Purpose_car                   -0.022621\n",
      "Purpose_vacation/others       -0.028058\n",
      "Job                           -0.032735\n",
      "Purpose_business              -0.036129\n",
      "Purpose_education             -0.049085\n",
      "Saving accounts_little        -0.070234\n",
      "Housing_free                  -0.081556\n",
      "Housing_rent                  -0.092785\n",
      "Checking account_moderate     -0.119581\n",
      "Credit amount                 -0.154739\n",
      "Duration                      -0.214927\n",
      "Name: Risk, dtype: float64\n"
     ]
    }
   ],
   "source": [
    "# Calculating Pearson Correlation Coefficients\n",
    "correlation_matrix = data.corr()\n",
    "target_correlation = correlation_matrix['Risk'].sort_values(ascending=False) \n",
    "\n",
    "print(target_correlation)"
   ]
  },
  {
   "cell_type": "markdown",
   "metadata": {},
   "source": [
    "## Feature Selection and Data Splitting"
   ]
  },
  {
   "cell_type": "code",
   "execution_count": 23,
   "metadata": {},
   "outputs": [
    {
     "name": "stdout",
     "output_type": "stream",
     "text": [
      "Selected features based on Pearson correlation: ['Risk', 'Housing_own', 'Purpose_radio/TV', 'Age', 'Checking account_little', 'Saving accounts_rich', 'Sex', 'Saving accounts_quite rich', 'Checking account_rich', 'Job', 'Purpose_business', 'Purpose_education', 'Saving accounts_little', 'Housing_free', 'Housing_rent', 'Checking account_moderate', 'Credit amount', 'Duration']\n"
     ]
    }
   ],
   "source": [
    "# Selecting features based on a correlation threshold\n",
    "threshold = 0.03\n",
    "selected_features = target_correlation[abs(target_correlation) > threshold].index.tolist()\n",
    "print(\"Selected features based on Pearson correlation:\", selected_features)"
   ]
  },
  {
   "cell_type": "markdown",
   "metadata": {},
   "source": [
    "## Splitting data"
   ]
  },
  {
   "cell_type": "code",
   "execution_count": 24,
   "metadata": {},
   "outputs": [],
   "source": [
    "from sklearn.model_selection import train_test_split\n",
    "import pandas as pd\n",
    "\n",
    "# Selected features based on correlation threshold\n",
    "selected_features = ['Housing_own', 'Housing_own', 'Purpose_radio/TV', 'Age', 'Checking account_little', 'Saving accounts_rich', \n",
    "                     'Sex', 'Saving accounts_quite rich', 'Checking account_rich', 'Job', 'Purpose_business', 'Purpose_education', \n",
    "                     'Saving accounts_little', 'Housing_free', 'Housing_rent', 'Checking account_moderate', 'Credit amount',\n",
    "                     'Duration']\n",
    "\n",
    "# Prepare the data for modeling\n",
    "X = data[selected_features]\n",
    "y = data['Risk']\n",
    "\n",
    "# Split the data into training and testing sets\n",
    "X_train, X_test, y_train, y_test = train_test_split(X, y, test_size=0.2, random_state=42)\n"
   ]
  },
  {
   "cell_type": "markdown",
   "metadata": {},
   "source": [
    "## Balancing data"
   ]
  },
  {
   "cell_type": "code",
   "execution_count": 25,
   "metadata": {},
   "outputs": [
    {
     "data": {
      "image/png": "[encoded data removed]",
      "text/plain": [
       "<Figure size 1400x600 with 2 Axes>"
      ]
     },
     "metadata": {},
     "output_type": "display_data"
    }
   ],
   "source": [
    "import pandas as pd\n",
    "import matplotlib.pyplot as plt\n",
    "from sklearn.utils import resample\n",
    "\n",
    "# Assuming X_train, y_train, X_test, and y_test are already defined\n",
    "\n",
    "# Combining the training data into one DataFrame for easy resampling\n",
    "train_data = pd.concat([X_train, y_train], axis=1)\n",
    "\n",
    "majority_class = train_data[train_data['Risk'] == 1]\n",
    "minority_class = train_data[train_data['Risk'] == 0]\n",
    "\n",
    "# Ensure each class has 300 samples\n",
    "desired_samples_per_class = 300\n",
    "\n",
    "# Undersample the majority class\n",
    "majority_class_undersampled = resample(majority_class, \n",
    "                                       replace=False,    # Sample without replacement\n",
    "                                       n_samples=desired_samples_per_class,  # Match the desired number of samples per class\n",
    "                                       random_state=42)  # For reproducibility\n",
    "\n",
    "# Oversample the minority class if it has fewer samples\n",
    "minority_class_oversampled = resample(minority_class, \n",
    "                                      replace=True,     # Sample with replacement\n",
    "                                      n_samples=desired_samples_per_class,  # Match the desired number of samples per class\n",
    "                                      random_state=42)  # For reproducibility\n",
    "\n",
    "# Combine the undersampled majority class with the oversampled minority class\n",
    "train_data_balanced = pd.concat([minority_class_oversampled, majority_class_undersampled])\n",
    "\n",
    "# Separate features and target\n",
    "X_train_balanced = train_data_balanced.drop('Risk', axis=1)\n",
    "y_train_balanced = train_data_balanced['Risk']\n",
    "\n",
    "# Check the distribution of the balanced training data\n",
    "balanced_distribution = y_train_balanced.value_counts()\n",
    "\n",
    "# Original distribution\n",
    "original_distribution = y_train.value_counts()\n",
    "\n",
    "# Plotting\n",
    "fig, axes = plt.subplots(1, 2, figsize=(14, 6))\n",
    "\n",
    "# Plot original distribution\n",
    "axes[0].bar(original_distribution.index, original_distribution.values, color=['blue', 'orange'])\n",
    "axes[0].set_title('Original Data Distribution')\n",
    "axes[0].set_xlabel('Risk')\n",
    "axes[0].set_ylabel('Count')\n",
    "axes[0].set_xticks(original_distribution.index)\n",
    "axes[0].set_xticklabels(['Minority Class (0)', 'Majority Class (1)'])\n",
    "\n",
    "# Plot balanced distribution\n",
    "axes[1].bar(balanced_distribution.index, balanced_distribution.values, color=['blue', 'orange'])\n",
    "axes[1].set_title('Balanced Data Distribution')\n",
    "axes[1].set_xlabel('Risk')\n",
    "axes[1].set_ylabel('Count')\n",
    "axes[1].set_xticks(balanced_distribution.index)\n",
    "axes[1].set_xticklabels(['Minority Class (0)', 'Majority Class (1)'])\n",
    "\n",
    "plt.tight_layout()\n",
    "plt.show()\n"
   ]
  },
  {
   "cell_type": "code",
   "execution_count": 26,
   "metadata": {},
   "outputs": [],
   "source": [
    "X_train_balanced.to_csv('X_train_balanced.csv', index=False)\n",
    "y_train_balanced.to_csv('y_train_balanced.csv', index=False)\n",
    "X_test.to_csv('X_test.csv', index=False)\n",
    "y_test.to_csv('y_test.csv', index=False)"
   ]
  },
  {
   "cell_type": "markdown",
   "metadata": {},
   "source": []
  }
 ],
 "metadata": {
  "kernelspec": {
   "display_name": "Python 3 (ipykernel)",
   "language": "python",
   "name": "python3"
  },
  "language_info": {
   "codemirror_mode": {
    "name": "ipython",
    "version": 3
   },
   "file_extension": ".py",
   "mimetype": "text/x-python",
   "name": "python",
   "nbconvert_exporter": "python",
   "pygments_lexer": "ipython3",
   "version": "3.11.1"
  }
 },
 "nbformat": 4,
 "nbformat_minor": 4
}
