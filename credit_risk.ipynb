{
 "cells": [
  {
   "cell_type": "markdown",
   "metadata": {},
   "source": [
    "# REPRODUCIBLE RESEARCH PROJECT\n",
    "\n",
    "## Credit Risk Assessment based on Gradient Boosting Decision Tree\n",
    "\n",
    "HAMED AHMED\n",
    "\n",
    "PALINA TKACHOVA\n",
    "\n",
    "HANDE DEMIRCI 454820\n",
    "\n",
    "RAHILA MAMMADOVA-HUSEYNOVA\n",
    "\n",
    "https://www.researchgate.net/publication/343235514_Credit_Risk_Assessment_based_on_Gradient_Boosting_Decision_Tree "
   ]
  },
  {
   "cell_type": "code",
   "execution_count": null,
   "metadata": {},
   "outputs": [],
   "source": []
  }
 ],
 "metadata": {
  "kernelspec": {
   "display_name": "Python 3",
   "language": "python",
   "name": "python3"
  },
  "language_info": {
   "name": "python",
   "version": "3.10.8"
  }
 },
 "nbformat": 4,
 "nbformat_minor": 2
}
